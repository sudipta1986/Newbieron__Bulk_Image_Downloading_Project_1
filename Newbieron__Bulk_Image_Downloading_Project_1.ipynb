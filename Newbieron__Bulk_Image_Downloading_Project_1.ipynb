{
  "nbformat": 4,
  "nbformat_minor": 0,
  "metadata": {
    "colab": {
      "provenance": []
    },
    "kernelspec": {
      "name": "python3",
      "display_name": "Python 3"
    },
    "language_info": {
      "name": "python"
    }
  },
  "cells": [
    {
      "cell_type": "markdown",
      "source": [
        "Hi. Hope you are doing well...\n",
        "My name is Sudipta Nath this is my first project at Newbieron Technologies thank you for given me such a golden opportunity. So now let me tell about this project , We want to you create a python file where it will ask you to type the name of any object or keywords or may be person's name that will search over in google image and download the images and you can mention how many images you want it. That number of images will be downloded."
      ],
      "metadata": {
        "id": "nJxbJUEZhJyW"
      }
    },
    {
      "cell_type": "code",
      "source": [
        "# Install necessary library and import Os,requests,BeautifulSoup library.\n",
        "!pip install requests\n",
        "!pip install bs4\n",
        "import os\n",
        "import requests\n",
        "from bs4 import BeautifulSoup"
      ],
      "metadata": {
        "colab": {
          "base_uri": "https://localhost:8080/"
        },
        "id": "9FUNtDout7EJ",
        "outputId": "40bbe305-8f14-45fe-95b4-6eff08e24b63"
      },
      "execution_count": null,
      "outputs": [
        {
          "output_type": "stream",
          "name": "stdout",
          "text": [
            "Requirement already satisfied: requests in /usr/local/lib/python3.10/dist-packages (2.27.1)\n",
            "Requirement already satisfied: urllib3<1.27,>=1.21.1 in /usr/local/lib/python3.10/dist-packages (from requests) (1.26.16)\n",
            "Requirement already satisfied: certifi>=2017.4.17 in /usr/local/lib/python3.10/dist-packages (from requests) (2023.5.7)\n",
            "Requirement already satisfied: charset-normalizer~=2.0.0 in /usr/local/lib/python3.10/dist-packages (from requests) (2.0.12)\n",
            "Requirement already satisfied: idna<4,>=2.5 in /usr/local/lib/python3.10/dist-packages (from requests) (3.4)\n",
            "Requirement already satisfied: bs4 in /usr/local/lib/python3.10/dist-packages (0.0.1)\n",
            "Requirement already satisfied: beautifulsoup4 in /usr/local/lib/python3.10/dist-packages (from bs4) (4.11.2)\n",
            "Requirement already satisfied: soupsieve>1.2 in /usr/local/lib/python3.10/dist-packages (from beautifulsoup4->bs4) (2.4.1)\n"
          ]
        }
      ]
    },
    {
      "cell_type": "code",
      "execution_count": null,
      "metadata": {
        "id": "SbadZ3v0znzN"
      },
      "outputs": [],
      "source": [
        "# Store the google image link in a variable.\n",
        "Google_Link = 'https://www.google.com/search?site=&tbm=isch&source=hp&biw=1873&bih=990&'\n",
        "\n",
        "# We have to save the user_agent in variable without it we can't download the image. We can search 'my user agent' on google.\n",
        "usr_agnt = {\n",
        "    'User-Agent': 'Mozilla/5.0 (Windows NT 10.0; Win64; x64) AppleWebKit/537.36 (KHTML, like Gecko) Chrome/85.0.4183.83 Safari/537.36',\n",
        "    'Accept': 'text/html,application/xhtml+xml,application/xml;q=0.9,*/*;q=0.8',\n",
        "    'Accept-Charset': 'ISO-8859-1,utf-8;q=0.7,*;q=0.3',\n",
        "    'Accept-Encoding': 'none',\n",
        "    'Accept-Language': 'en-US,en;q=0.8',\n",
        "    'Connection': 'keep-alive',\n",
        "}\n",
        "\n",
        "# We create a Folder call 'Bulk Image' where all the images will be save.\n",
        "Image_Folder = 'Bulk_Image'\n",
        "\n",
        "# Define a function for create that destination folder if is't doesn't exists it will create the folder with same name.\n",
        "def start():\n",
        "    if not os.path.exists(Image_Folder):\n",
        "        os.mkdir(Image_Folder)\n",
        "    download_images()\n",
        "\n",
        "# Create a function to download the images. First user can put the person's name or any keyword and then number of images that he/she want's to download.\n",
        "def download_images():\n",
        "    name = input(\"Enter the person's name: \")\n",
        "    num_images = int(input('How many images do you want to download: '))\n",
        "\n",
        "# It will will show that images are scarching.\n",
        "    print('Searching for images.......')\n",
        "\n",
        "# Now we need to concat Google image link and quey, for quey we can use 'q=', and the keyword (we have save the person name/keyword in name variable) then\n",
        "# save this a variable called 'search_url'\n",
        "\n",
        "    search_url = Google_Link + 'q=' + name\n",
        "\n",
        "# We can use Get or Post any of them, here we used get and request the 'search_url' along with the headers and headers would be the 'my user agent' then save it in a variable\n",
        "# called response and convert it into a text.\n",
        "    response = requests.get(search_url, headers=usr_agnt)\n",
        "    html = response.text\n",
        "\n",
        "# After that we have to use BeautifulSoup library and parser to extract features from html.\n",
        "    bful_soup = BeautifulSoup(html, 'html.parser')\n",
        "\n",
        "# Now we have to collect the link of images and along with the class of the source link. We can use FindAll command and save it in a variable. Here the variable is results.\n",
        "    results = bful_soup.findAll('img', {'class': 'rg_i Q4LuWd'})\n",
        "\n",
        "# Now we need to create a forloop in order to collect the right nouber of images. I used here try and except, if it's get any error it will try once again.\n",
        "    count = 0\n",
        "    images_link = []\n",
        "    for i in results:\n",
        "        try:\n",
        "            link = i['data-src']\n",
        "            images_link.append(link)\n",
        "            count = count + 1\n",
        "            if (count >= num_images):\n",
        "                break\n",
        "\n",
        "        except KeyError:\n",
        "            continue\n",
        "\n",
        "# Now it should be print like below.\n",
        "    print(f'We have found {len(images_link)} images')\n",
        "    print('Initiate the download process')\n",
        "\n",
        "# Now We want to rename each images as there position so, we can use enumerate command to do that. We define a forloop and get requests the img_link. For changing the\n",
        "# images name we need to concat destination folder name and input keywods + starting with name 1 not zero and save .jpg file extention format also writing those images name\n",
        "# write byte mode with 'imgname' and give a allias 'file' and passing a content.\n",
        "    for i, imglink in enumerate(images_link):\n",
        "        gtimg = requests.get(imglink)\n",
        "        imgname = Image_Folder + '/' + name + str(i+1) + '.jpg'\n",
        "        with open(imgname,'wb') as file:\n",
        "            file.write(gtimg.content)\n",
        "\n",
        "# Then print it as below statement\n",
        "    print('The file has been successfully downloaded!!!')\n",
        "\n",
        "# Run this code in a if statement\n",
        "if __name__ == '__main__':\n",
        "    start()"
      ]
    },
    {
      "cell_type": "markdown",
      "source": [
        "I have completed this project and teted,it work's well please go through it and let me know about it ,if you found anything wrong or may be it's not correct please let me know and give me a chance to learn from you. Thank You."
      ],
      "metadata": {
        "id": "k6D-n0KskIQA"
      }
    }
  ]
}